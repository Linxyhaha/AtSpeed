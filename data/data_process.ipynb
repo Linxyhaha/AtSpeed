{
 "cells": [
  {
   "cell_type": "code",
   "execution_count": 1,
   "metadata": {},
   "outputs": [
    {
     "name": "stdout",
     "output_type": "stream",
     "text": [
      "--2025-05-26 17:45:45--  http://snap.stanford.edu/data/amazon/productGraph/categoryFiles/reviews_Beauty_5.json.gz\n",
      "Resolving snap.stanford.edu (snap.stanford.edu)... 171.64.75.80\n",
      "Connecting to snap.stanford.edu (snap.stanford.edu)|171.64.75.80|:80... connected.\n",
      "HTTP request sent, awaiting response... 200 OK\n",
      "Length: 44819276 (43M) [application/x-gzip]\n",
      "Saving to: ‘reviews_Beauty_5.json.gz’\n",
      "\n",
      "reviews_Beauty_5.js 100%[===================>]  42.74M   398KB/s    in 3m 12s  \n",
      "\n",
      "2025-05-26 17:48:58 (228 KB/s) - ‘reviews_Beauty_5.json.gz’ saved [44819276/44819276]\n",
      "\n"
     ]
    }
   ],
   "source": [
    "# Download Amazon Beauty Dataset\n",
    "!wget http://snap.stanford.edu/data/amazon/productGraph/categoryFiles/reviews_Beauty_5.json.gz"
   ]
  },
  {
   "cell_type": "code",
   "execution_count": 2,
   "metadata": {},
   "outputs": [],
   "source": [
    "import gzip\n",
    "import json\n",
    "import copy\n",
    "import math\n",
    "import numpy as np\n",
    "\n",
    "import torch\n",
    "\n",
    "import random\n",
    "random_seed = 1\n",
    "torch.manual_seed(random_seed) # cpu\n",
    "np.random.seed(random_seed) #numpy\n",
    "random.seed(random_seed) #random and transforms\n",
    "torch.backends.cudnn.deterministic=True # cudnn"
   ]
  },
  {
   "cell_type": "code",
   "execution_count": 10,
   "metadata": {},
   "outputs": [],
   "source": [
    "def parse(path):\n",
    "    g = gzip.open(path, 'r')\n",
    "    for l in g:\n",
    "        yield json.loads(l)\n",
    "\n",
    "reviews_path = 'reviews_Beauty_5.json.gz'\n",
    "\n",
    "reviews = parse(reviews_path)"
   ]
  },
  {
   "cell_type": "code",
   "execution_count": 12,
   "metadata": {},
   "outputs": [],
   "source": [
    "def select_kcore(_interaction_dict, K=10, verbose=False):\n",
    "    interaction_dict = copy.deepcopy(_interaction_dict)\n",
    "    flag = 0\n",
    "    while flag==0:\n",
    "        item_cnt_dict = {}\n",
    "        item_drop_dict = {}\n",
    "        # create item_drop_dict, item_cnt_dict\n",
    "        for user_id in interaction_dict:\n",
    "            for item_id in interaction_dict[user_id]:\n",
    "                item_cnt_dict[item_id] = item_cnt_dict.get(item_id, 0) + 1\n",
    "                item_drop_dict[item_id] = 0\n",
    "\n",
    "        assert len(item_drop_dict)==len(item_cnt_dict)\n",
    "\n",
    "        # delete items < K\n",
    "        del_iid_list = []\n",
    "        for i_id in item_cnt_dict:\n",
    "            if item_cnt_dict[i_id] < K:\n",
    "                del_iid_list.append(i_id)\n",
    "\n",
    "        for i_id in del_iid_list:\n",
    "            item_drop_dict[i_id] = 1\n",
    "        for u_id in interaction_dict:\n",
    "            del_id_list = []\n",
    "            for i_id in interaction_dict[u_id]:\n",
    "                if item_drop_dict[i_id]:\n",
    "                    del_id_list.append(i_id)\n",
    "            for del_id in del_id_list:\n",
    "                del interaction_dict[u_id][del_id]\n",
    "\n",
    "        item_drop_num = 0\n",
    "        for i_id in item_drop_dict:\n",
    "            item_drop_num += item_drop_dict[i_id]\n",
    "        item_num = len(item_drop_dict) - item_drop_num\n",
    "\n",
    "        new_item_cnt = {}\n",
    "        min_cnt=9999\n",
    "        for u_id in interaction_dict:\n",
    "            min_cnt = min(min_cnt, len(interaction_dict[u_id]))\n",
    "            for i_id in interaction_dict[u_id]:\n",
    "                new_item_cnt[i_id] = new_item_cnt.get(i_id, 0) + 1\n",
    "            \n",
    "        min_cnt_item = 9999\n",
    "        for i_id in new_item_cnt:\n",
    "            min_cnt_item = min(min_cnt_item, new_item_cnt[i_id])\n",
    "            \n",
    "        if verbose:\n",
    "            print('min user interaction:',min_cnt)\n",
    "            print('min item num:',min_cnt_item)\n",
    "            \n",
    "        if min_cnt>=K and min_cnt_item>=K:\n",
    "            return interaction_dict, len(interaction_dict), item_num\n",
    "        \n",
    "        # delete users interactions<K\n",
    "        del_uid_list = []\n",
    "        for u_id in interaction_dict:\n",
    "            if len(interaction_dict[u_id])<K:\n",
    "                del_uid_list.append(u_id)\n",
    "        for u_id in del_uid_list:\n",
    "            del interaction_dict[u_id]\n",
    "        \n",
    "        # count min user-interaction and item appearance\n",
    "        new_item_cnt = {}\n",
    "        min_cnt=9999\n",
    "        for u_id in interaction_dict:\n",
    "            min_cnt = min(min_cnt, len(interaction_dict[u_id]))\n",
    "            for i_id in interaction_dict[u_id]:\n",
    "                new_item_cnt[i_id] = new_item_cnt.get(i_id, 0) + 1\n",
    "                 \n",
    "        min_cnt_item = 9999\n",
    "        for i_id in new_item_cnt:\n",
    "            min_cnt_item = min(min_cnt_item, new_item_cnt[i_id])\n",
    "\n",
    "        if verbose:\n",
    "            print('min user interaction:',min_cnt)\n",
    "            print('min item num:',min_cnt_item)\n",
    "            \n",
    "        if min_cnt>=K and min_cnt_item>=K:\n",
    "            return interaction_dict, len(interaction_dict), item_num"
   ]
  },
  {
   "cell_type": "code",
   "execution_count": 13,
   "metadata": {},
   "outputs": [
    {
     "name": "stdout",
     "output_type": "stream",
     "text": [
      "raw user num: 22269\n",
      "raw item num: 12086\n",
      "total interaction num: 154272\n",
      "0\n"
     ]
    }
   ],
   "source": [
    "interaction_dict = {}\n",
    "cnt=0\n",
    "interaction_num = 0\n",
    "raw_item = set()\n",
    "for review in reviews:\n",
    "    try:\n",
    "        u_id, i_id, rating, time = review['reviewerID'], review['asin'], review['overall'], review['unixReviewTime']\n",
    "        if int(rating) < 4:\n",
    "            continue\n",
    "        if u_id not in interaction_dict:\n",
    "            interaction_dict[u_id] = {}\n",
    "        interaction_dict[u_id][i_id] = time\n",
    "        interaction_num += 1\n",
    "        raw_item.add(i_id)\n",
    "    except:\n",
    "        print(review)\n",
    "        cnt+=1\n",
    "print('raw user num:',len(interaction_dict))\n",
    "print('raw item num:', len(raw_item))\n",
    "print('total interaction num:', interaction_num)\n",
    "print(cnt)"
   ]
  },
  {
   "cell_type": "code",
   "execution_count": 14,
   "metadata": {},
   "outputs": [],
   "source": [
    "# sort each user's interaction by timestamp\n",
    "interaction_dict_new = copy.deepcopy(interaction_dict)\n",
    "for u_id in interaction_dict_new:\n",
    "    interaction_dict_new[u_id] = dict(sorted(interaction_dict_new[u_id].items(),key=lambda item:item[1]))"
   ]
  },
  {
   "cell_type": "markdown",
   "metadata": {},
   "source": [
    "### 1. k-core selection "
   ]
  },
  {
   "cell_type": "code",
   "execution_count": 15,
   "metadata": {},
   "outputs": [
    {
     "name": "stdout",
     "output_type": "stream",
     "text": [
      "after 0 core...\n",
      "user num: 22269\n",
      "item num: 12086\n"
     ]
    }
   ],
   "source": [
    "# k-core selection\n",
    "interaction_dict_new, user_num, item_num = select_kcore(interaction_dict_new,0)\n",
    "print('after 0 core...')\n",
    "print('user num:',user_num)\n",
    "print('item num:',item_num)"
   ]
  },
  {
   "cell_type": "code",
   "execution_count": 16,
   "metadata": {},
   "outputs": [
    {
     "data": {
      "text/plain": [
       "22269"
      ]
     },
     "execution_count": 16,
     "metadata": {},
     "output_type": "execute_result"
    }
   ],
   "source": [
    "len(interaction_dict_new)"
   ]
  },
  {
   "cell_type": "markdown",
   "metadata": {},
   "source": [
    "### 2. k-core item selection"
   ]
  },
  {
   "cell_type": "code",
   "execution_count": 17,
   "metadata": {},
   "outputs": [],
   "source": [
    "def select_kcore_item(_interaction_dict, K=20, verbose=False):\n",
    "    interaction_dict = copy.deepcopy(_interaction_dict)\n",
    "    flag = 0\n",
    "    while flag==0:\n",
    "        item_cnt_dict = {}\n",
    "        item_drop_dict = {}\n",
    "        # create item_drop_dict, item_cnt_dict\n",
    "        for user_id in interaction_dict:\n",
    "            for item_id in interaction_dict[user_id]:\n",
    "                item_cnt_dict[item_id] = item_cnt_dict.get(item_id, 0) + 1\n",
    "                item_drop_dict[item_id] = 0\n",
    "                \n",
    "        #print('user num:',len(interaction_dict))\n",
    "        assert len(item_drop_dict)==len(item_cnt_dict)\n",
    "\n",
    "        # delete items < K\n",
    "        del_iid_list = []\n",
    "        for i_id in item_cnt_dict:\n",
    "            if item_cnt_dict[i_id] < K:\n",
    "                del_iid_list.append(i_id)\n",
    "\n",
    "        for i_id in del_iid_list:\n",
    "            item_drop_dict[i_id] = 1\n",
    "        for u_id in interaction_dict:\n",
    "            del_id_list = []\n",
    "            for i_id in interaction_dict[u_id]:\n",
    "                if item_drop_dict[i_id]:\n",
    "                    del_id_list.append(i_id)\n",
    "            for del_id in del_id_list:\n",
    "                del interaction_dict[u_id][del_id]\n",
    "\n",
    "        item_drop_num = 0\n",
    "        for i_id in item_drop_dict:\n",
    "            item_drop_num += item_drop_dict[i_id]\n",
    "        item_num = len(item_drop_dict) - item_drop_num\n",
    "#         print(f'item num after item-{K}core:',item_num)\n",
    "\n",
    "        new_item_cnt = {}\n",
    "        min_cnt=9999\n",
    "        for u_id in interaction_dict:\n",
    "            min_cnt = min(min_cnt, len(interaction_dict[u_id]))\n",
    "            for i_id in interaction_dict[u_id]:\n",
    "                new_item_cnt[i_id] = new_item_cnt.get(i_id, 0) + 1\n",
    "            \n",
    "        min_cnt_item = 9999\n",
    "        for i_id in new_item_cnt:\n",
    "            min_cnt_item = min(min_cnt_item, new_item_cnt[i_id])\n",
    "            \n",
    "        if verbose:\n",
    "            print('min user interaction:',min_cnt)\n",
    "            print('min item num:',min_cnt_item)\n",
    "            \n",
    "        if min_cnt_item>=K:\n",
    "            return interaction_dict, len(interaction_dict), item_num\n",
    "        "
   ]
  },
  {
   "cell_type": "code",
   "execution_count": 18,
   "metadata": {},
   "outputs": [
    {
     "name": "stdout",
     "output_type": "stream",
     "text": [
      "min user interaction: 1\n",
      "min item num: 1\n",
      "after 5 core item...\n",
      "user num: 22269\n",
      "item num: 12086\n"
     ]
    }
   ],
   "source": [
    "# k-core selection\n",
    "interaction_dict_new, user_num, item_num = select_kcore_item(interaction_dict_new,0,verbose=True)\n",
    "print('after 5 core item...')\n",
    "print('user num:',user_num)\n",
    "print('item num:',item_num)"
   ]
  },
  {
   "cell_type": "markdown",
   "metadata": {},
   "source": [
    "### 3. select kcore user"
   ]
  },
  {
   "cell_type": "code",
   "execution_count": 19,
   "metadata": {},
   "outputs": [],
   "source": [
    "def select_kcore_user(_interaction_dict, K=10, verbose=False):\n",
    "    interaction_dict = copy.deepcopy(_interaction_dict)\n",
    "    flag = 0\n",
    "    while flag==0:\n",
    "        \n",
    "        # delete users interactions<K\n",
    "        del_uid_list = []\n",
    "        for u_id in interaction_dict:\n",
    "            if len(interaction_dict[u_id])<K:\n",
    "                del_uid_list.append(u_id)\n",
    "        for u_id in del_uid_list:\n",
    "            del interaction_dict[u_id]\n",
    "        \n",
    "        # count min user-interaction and item appearance\n",
    "        new_item_cnt = {}\n",
    "        min_cnt=9999\n",
    "        for u_id in interaction_dict:\n",
    "            min_cnt = min(min_cnt, len(interaction_dict[u_id]))\n",
    "            for i_id in interaction_dict[u_id]:\n",
    "                new_item_cnt[i_id] = new_item_cnt.get(i_id, 0) + 1\n",
    "                 \n",
    "        min_cnt_item = 9999\n",
    "        for i_id in new_item_cnt:\n",
    "            min_cnt_item = min(min_cnt_item, new_item_cnt[i_id])\n",
    "\n",
    "        if verbose:\n",
    "            print('min user interaction:',min_cnt)\n",
    "            print('min item num:',min_cnt_item)\n",
    "            \n",
    "        if min_cnt>=K:\n",
    "            return interaction_dict, len(interaction_dict), item_num"
   ]
  },
  {
   "cell_type": "code",
   "execution_count": 20,
   "metadata": {},
   "outputs": [
    {
     "name": "stdout",
     "output_type": "stream",
     "text": [
      "min user interaction: 1\n",
      "min item num: 1\n",
      "after 5 core user...\n",
      "user num: 22269\n",
      "item num: 12086\n"
     ]
    }
   ],
   "source": [
    "# k-core selection\n",
    "interaction_dict_new, user_num, item_num = select_kcore_user(interaction_dict_new,0,verbose=True)\n",
    "print('after 5 core user...')\n",
    "print('user num:',user_num)\n",
    "print('item num:',item_num)"
   ]
  },
  {
   "cell_type": "markdown",
   "metadata": {},
   "source": [
    "### ** following split process"
   ]
  },
  {
   "cell_type": "code",
   "execution_count": 21,
   "metadata": {},
   "outputs": [],
   "source": [
    "time_list = []\n",
    "for u_id in interaction_dict_new:\n",
    "    for i_id in interaction_dict_new[u_id]:\n",
    "        time_list.append(interaction_dict_new[u_id][i_id])\n",
    "time_list = sorted(time_list)"
   ]
  },
  {
   "cell_type": "code",
   "execution_count": 22,
   "metadata": {},
   "outputs": [
    {
     "data": {
      "text/plain": [
       "154272"
      ]
     },
     "execution_count": 22,
     "metadata": {},
     "output_type": "execute_result"
    }
   ],
   "source": [
    "len(time_list)"
   ]
  },
  {
   "cell_type": "code",
   "execution_count": 23,
   "metadata": {},
   "outputs": [
    {
     "name": "stdout",
     "output_type": "stream",
     "text": [
      "*-------\n",
      "15427 30854\n",
      "1400112000 1394409600\n",
      "1023840000 1406073600\n",
      "2886\n"
     ]
    }
   ],
   "source": [
    "training_old_dict, validation_old_dict, testing_old_dict = {}, {}, {}\n",
    "\n",
    "split_ratio = 0.1\n",
    "test_num = int(len(time_list)*split_ratio)\n",
    "split_time1 = time_list[-test_num]\n",
    "split_time2 = time_list[-math.ceil(2*test_num)]\n",
    "print('*-------')\n",
    "print(test_num, math.ceil(2*test_num))\n",
    "print(split_time1, split_time2)\n",
    "print(time_list[0], time_list[-1])\n",
    "\n",
    "for u_id in interaction_dict_new:\n",
    "    training_old_dict[u_id] = []\n",
    "    validation_old_dict[u_id] = []\n",
    "    testing_old_dict[u_id] = []\n",
    "    for i_id, time in interaction_dict_new[u_id].items():\n",
    "        if time < split_time2:\n",
    "            training_old_dict[u_id].append(i_id)\n",
    "        elif time < split_time1:\n",
    "            validation_old_dict[u_id].append(i_id)\n",
    "        else:\n",
    "            testing_old_dict[u_id].append(i_id)\n",
    "\n",
    "cut_user = 0\n",
    "\n",
    "for u_id in interaction_dict_new:\n",
    "    if len(training_old_dict[u_id]) >= 2: # remove users with less than 2 interactions in training dict\n",
    "        continue\n",
    "    else:\n",
    "        cut_user += 1\n",
    "        del training_old_dict[u_id]\n",
    "        del validation_old_dict[u_id]\n",
    "        del testing_old_dict[u_id]\n",
    "\n",
    "print(cut_user)"
   ]
  },
  {
   "cell_type": "code",
   "execution_count": 24,
   "metadata": {},
   "outputs": [
    {
     "name": "stdout",
     "output_type": "stream",
     "text": [
      "user num: 19383\n",
      "item num: 12035\n"
     ]
    }
   ],
   "source": [
    "# use list to store user/item for map generation -> for reproducibility\n",
    "\n",
    "def get_unique_sorted_elements(lst):\n",
    "    return sorted(list(set(lst)))\n",
    "\n",
    "user_set = []\n",
    "item_set = []\n",
    "for u_id in training_old_dict:\n",
    "    user_set.append(u_id)\n",
    "    for i_id in training_old_dict[u_id]:\n",
    "        item_set.append(i_id)\n",
    "    for i_id in validation_old_dict[u_id]:\n",
    "        item_set.append(i_id)\n",
    "    for i_id in testing_old_dict[u_id]:\n",
    "        item_set.append(i_id)\n",
    "\n",
    "item_set = get_unique_sorted_elements(item_set)\n",
    "            \n",
    "import random\n",
    "random.seed(2023)\n",
    "random.shuffle(item_set)\n",
    "\n",
    "user_map = {old_id:new_id for new_id, old_id in enumerate(user_set)}\n",
    "item_map = {old_id:new_id for new_id, old_id in enumerate(item_set)}\n",
    "\n",
    "user_map = dict(sorted(user_map.items(),key=lambda item:item[1]))\n",
    "item_map = dict(sorted(item_map.items(),key=lambda item:item[1]))\n",
    "\n",
    "save_path = 'beauty/'\n",
    "np.save(save_path + 'user_map.npy',user_map)\n",
    "np.save(save_path + 'item_map.npy',item_map)\n",
    "\n",
    "user_map_reverse = {k:v for v,k in user_map.items()}\n",
    "item_map_reverse = {k:v for v,k in item_map.items()}\n",
    "np.save(save_path + 'user_map_reverse.npy',user_map_reverse)\n",
    "np.save(save_path + 'item_map_reverse.npy',item_map_reverse)\n",
    "\n",
    "print('user num:', len(user_set))\n",
    "print('item num:', len(item_set))"
   ]
  },
  {
   "cell_type": "code",
   "execution_count": 25,
   "metadata": {},
   "outputs": [
    {
     "name": "stdout",
     "output_type": "stream",
     "text": [
      "warm item num: 11717\n",
      "cold item num: 318\n",
      "valid warm item num: 3927\n",
      "valid cold item num: 176\n",
      "test warm item num: 3313\n",
      "test cold item num: 269\n",
      "----------------\n",
      "training interaction num: 122241\n",
      "validation warm interaction num: 8465\n",
      "validation cold interaction num: 851\n",
      "testing warm interaction num: 5472\n",
      "testing cold interaction num: 1841\n",
      "----------------\n",
      "training warm user num: 19383\n",
      "validation warm user num: 4131\n",
      "validation cold user num: 485\n",
      "testing warm user num: 2932\n",
      "testing cold user num: 974\n",
      "----------------\n",
      "user num: 19383\n",
      "item num: 12035\n",
      "interaction: 138870\n",
      "density: 0.0005953074877631774\n",
      "----------------\n",
      "validation overlap user num: 321\n",
      "testing overlap user num: 353\n",
      "----------------\n",
      "test user num: 3553\n"
     ]
    }
   ],
   "source": [
    "warm_item_set, cold_item_set = set(), set()\n",
    "valid_warm_item_set, valid_cold_item_set, test_warm_item_set, test_cold_item_set = set(), set(), set(), set()\n",
    "training_interaction, validation_warm_interaction, validation_cold_interaction, testing_warm_interaction, testing_cold_interaction = 0, 0, 0, 0, 0\n",
    "training_user, validation_warm_user, validation_cold_user, testing_warm_user, testing_cold_user = 0, 0, 0, 0, 0\n",
    "validation_overlap_user, testing_overlap_user = 0, 0\n",
    "for u_id in training_old_dict:\n",
    "    training_user += 1\n",
    "    for i_id in training_old_dict[u_id]:\n",
    "        warm_item_set.add(item_map[i_id])\n",
    "        training_interaction += 1\n",
    "for u_id in validation_old_dict:\n",
    "    flag_w, flag_c = 0, 0\n",
    "    for i_id in validation_old_dict[u_id]:\n",
    "        if item_map[i_id] in warm_item_set:\n",
    "            valid_warm_item_set.add(item_map[i_id])\n",
    "            validation_warm_interaction += 1\n",
    "            flag_w = 1\n",
    "        else:\n",
    "            cold_item_set.add(item_map[i_id])\n",
    "            valid_cold_item_set.add(item_map[i_id])\n",
    "            validation_cold_interaction += 1\n",
    "            flag_c = 1\n",
    "    if flag_w == 1:\n",
    "        validation_warm_user += 1\n",
    "    if flag_c == 1:\n",
    "        validation_cold_user += 1\n",
    "    if flag_w == 1 and flag_c == 1:\n",
    "        validation_overlap_user += 1\n",
    "for u_id in testing_old_dict:\n",
    "    flag_w, flag_c = 0, 0\n",
    "    for i_id in testing_old_dict[u_id]:\n",
    "        if item_map[i_id] in warm_item_set:\n",
    "            test_warm_item_set.add(item_map[i_id])\n",
    "            testing_warm_interaction += 1\n",
    "            flag_w = 1\n",
    "        else:\n",
    "            cold_item_set.add(item_map[i_id])\n",
    "            test_cold_item_set.add(item_map[i_id])\n",
    "            testing_cold_interaction += 1\n",
    "            flag_c = 1\n",
    "    if flag_w == 1:\n",
    "        testing_warm_user += 1\n",
    "    if flag_c == 1:\n",
    "        testing_cold_user += 1\n",
    "    if flag_w == 1 and flag_c == 1:\n",
    "        testing_overlap_user += 1\n",
    "\n",
    "test_user_num = 0\n",
    "for u_id in testing_old_dict:\n",
    "    if len(testing_old_dict[u_id]):\n",
    "        test_user_num += 1\n",
    "        \n",
    "tot_interaction = training_interaction + validation_warm_interaction + validation_cold_interaction + testing_warm_interaction + testing_cold_interaction\n",
    "\n",
    "print('warm item num:', len(warm_item_set))\n",
    "print('cold item num:', len(cold_item_set))\n",
    "print('valid warm item num:', len(valid_warm_item_set))\n",
    "print('valid cold item num:', len(valid_cold_item_set))\n",
    "print('test warm item num:', len(test_warm_item_set))\n",
    "print('test cold item num:', len(test_cold_item_set))\n",
    "print('----------------')\n",
    "print('training interaction num:', training_interaction)\n",
    "print('validation warm interaction num:', validation_warm_interaction)\n",
    "print('validation cold interaction num:', validation_cold_interaction)\n",
    "print('testing warm interaction num:', testing_warm_interaction)\n",
    "print('testing cold interaction num:', testing_cold_interaction)\n",
    "print('----------------')\n",
    "print('training warm user num:', training_user)\n",
    "print('validation warm user num:', validation_warm_user)\n",
    "print('validation cold user num:', validation_cold_user)\n",
    "print('testing warm user num:', testing_warm_user)\n",
    "print('testing cold user num:', testing_cold_user)\n",
    "print('----------------')\n",
    "print('user num:', len(user_set))\n",
    "print('item num:', len(item_set))\n",
    "print('interaction:', tot_interaction)\n",
    "print('density:', tot_interaction/(len(user_set)*len(item_set)))\n",
    "print('----------------')\n",
    "print('validation overlap user num:', validation_overlap_user)\n",
    "print('testing overlap user num:', testing_overlap_user)\n",
    "print('----------------')\n",
    "print('test user num:', test_user_num)"
   ]
  },
  {
   "cell_type": "code",
   "execution_count": null,
   "metadata": {},
   "outputs": [
    {
     "name": "stdout",
     "output_type": "stream",
     "text": [
      "training sample num: 19383\n",
      "validation sample num: 19383\n",
      "testing sample num: 19383\n"
     ]
    }
   ],
   "source": [
    "training_dict, validation_dict, testing_dict = {}, {}, {}\n",
    "training_list, validation_list, testing_list = [], [], []\n",
    "validation_warm_dict, validation_cold_dict, testing_warm_dict, testing_cold_dict = {}, {}, {}, {}\n",
    "\n",
    "for u_id in training_old_dict:\n",
    "    training_dict[user_map[u_id]] = []\n",
    "    for i_id in training_old_dict[u_id]:\n",
    "        training_dict[user_map[u_id]].append(item_map[i_id])\n",
    "        training_list.append([user_map[u_id], item_map[i_id]])\n",
    "for u_id in validation_old_dict:\n",
    "    validation_dict[user_map[u_id]] = []\n",
    "    validation_warm_dict[user_map[u_id]] = []\n",
    "    validation_cold_dict[user_map[u_id]] = []\n",
    "    for i_id in validation_old_dict[u_id]:\n",
    "        validation_dict[user_map[u_id]].append(item_map[i_id])\n",
    "        validation_list.append([user_map[u_id], item_map[i_id]])\n",
    "        if item_map[i_id] in warm_item_set:\n",
    "            validation_warm_dict[user_map[u_id]].append(item_map[i_id])\n",
    "        else:\n",
    "            validation_cold_dict[user_map[u_id]].append(item_map[i_id])\n",
    "for u_id in testing_old_dict:\n",
    "    testing_dict[user_map[u_id]] = []\n",
    "    testing_warm_dict[user_map[u_id]] = []\n",
    "    testing_cold_dict[user_map[u_id]] = []\n",
    "    for i_id in testing_old_dict[u_id]:\n",
    "        testing_dict[user_map[u_id]].append(item_map[i_id])\n",
    "        testing_list.append([user_map[u_id], item_map[i_id]])\n",
    "        if item_map[i_id] in warm_item_set:\n",
    "            testing_warm_dict[user_map[u_id]].append(item_map[i_id])\n",
    "        else:\n",
    "            testing_cold_dict[user_map[u_id]].append(item_map[i_id])"
   ]
  },
  {
   "cell_type": "code",
   "execution_count": null,
   "metadata": {},
   "outputs": [],
   "source": [
    "np.save(save_path + 'training_dict.npy', training_dict)\n",
    "np.save(save_path + 'validation_dict.npy', validation_dict)\n",
    "np.save(save_path + 'testing_dict.npy', testing_dict)"
   ]
  },
  {
   "cell_type": "markdown",
   "metadata": {},
   "source": [
    "### overlap check"
   ]
  },
  {
   "cell_type": "code",
   "execution_count": 31,
   "metadata": {},
   "outputs": [],
   "source": [
    "def overlap(dict0,dict1,dict2):\n",
    "    \n",
    "    count1 = {key:0 for key in dict0}\n",
    "    count2 = {key:0 for key in dict0}\n",
    "    res = {key:set() for key in dict0}\n",
    "\n",
    "    for u_id,items in dict1.items():\n",
    "        count1[u_id] = len(items)\n",
    "    for u_id,items in dict2.items():\n",
    "        count2[u_id] = len(items)\n",
    "    for u_id in res:\n",
    "        try:\n",
    "            for item in dict1[u_id]:\n",
    "                res[u_id].add(item)\n",
    "        except:\n",
    "            pass\n",
    "        try:\n",
    "            for item in dict2[u_id]:\n",
    "                res[u_id].add(item)\n",
    "        except:\n",
    "            pass\n",
    "\n",
    "    cnt=0\n",
    "    interaction_cnt=0\n",
    "    for u_id in res:\n",
    "        if len(res[u_id])!= count1[u_id] + count2[u_id]:\n",
    "            cnt = cnt + count1[u_id] + count2[u_id] - len(res[u_id])\n",
    "        interaction_cnt += len(res[u_id])\n",
    "    ratio = cnt/interaction_cnt\n",
    "    return cnt,interaction_cnt,ratio"
   ]
  },
  {
   "cell_type": "code",
   "execution_count": 32,
   "metadata": {},
   "outputs": [
    {
     "name": "stdout",
     "output_type": "stream",
     "text": [
      "tr - val: (0, 131557, 0.0)\n",
      "tr - tst: (0, 129554, 0.0)\n",
      "val - tst: (0, 16629, 0.0)\n"
     ]
    }
   ],
   "source": [
    "time_tr  = np.load(save_path + 'training_dict.npy', allow_pickle=True).item()\n",
    "time_val = np.load(save_path + 'validation_dict.npy', allow_pickle=True).item()\n",
    "time_tst = np.load(save_path + 'testing_dict.npy', allow_pickle=True).item()\n",
    "print('tr - val:',overlap(time_tr, time_tr, time_val ))\n",
    "print('tr - tst:',overlap(time_tr, time_tr, time_tst ))\n",
    "print('val - tst:',overlap(time_tr, time_tst, time_val ))"
   ]
  },
  {
   "cell_type": "code",
   "execution_count": null,
   "metadata": {},
   "outputs": [],
   "source": []
  }
 ],
 "metadata": {
  "kernelspec": {
   "display_name": "tallrec",
   "language": "python",
   "name": "python3"
  },
  "language_info": {
   "codemirror_mode": {
    "name": "ipython",
    "version": 3
   },
   "file_extension": ".py",
   "mimetype": "text/x-python",
   "name": "python",
   "nbconvert_exporter": "python",
   "pygments_lexer": "ipython3",
   "version": "3.10.11"
  }
 },
 "nbformat": 4,
 "nbformat_minor": 2
}
